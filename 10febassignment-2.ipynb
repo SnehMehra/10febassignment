{
 "cells": [
  {
   "cell_type": "markdown",
   "id": "98253426-3c3b-4d28-b85e-639af9f7ed15",
   "metadata": {},
   "source": [
    "#Q.1"
   ]
  },
  {
   "cell_type": "markdown",
   "id": "092b480e-e131-4d28-8989-6b3106e9a48f",
   "metadata": {},
   "source": [
    "# The open() function is used to open a file in Python. It is a built-in function that takes two arguments: the file name (including the path) and the mode in which the file should be opened.\n",
    "\n",
    "# The different modes for opening a file are:\n",
    "\n",
    "# \"r\" - Read mode: This mode is used to read data from a file. The file must exist, otherwise a FileNotFoundError will be raised. When a file is opened in read mode, it cannot be modified.\n",
    "# \"w\" - Write mode: This mode is used to write data to a file. If the file exists, its contents will be overwritten. If the file does not exist, it will be created. When a file is opened in write mode, the contents of the file are deleted and replaced with the new data.\n",
    "# \"a\" - Append mode: This mode is used to append data to an existing file. If the file does not exist, it will be created. When a file is opened in append mode, new data is added to the end of the file, without overwriting the existing data.\n",
    "# \"x\" - Exclusive creation mode: This mode is used to create a new file, but raises a FileExistsError if the file already exists.\n",
    "# \"b\" - Binary mode: This mode is used to read or write binary data, such as images or executable files.\n",
    "# \"t\" - Text mode: This mode is used to read or write text data, such as strings or characters. This is the default mode if no mode is specified.\n",
    "# \"+\" - Read and write mode: This mode is used to read and write to a file simultaneously.\n",
    "\n",
    "\n"
   ]
  },
  {
   "cell_type": "markdown",
   "id": "7aa8f543-e4b7-42a5-a2f5-6bc7e9886aaa",
   "metadata": {},
   "source": [
    "#Q.2"
   ]
  },
  {
   "cell_type": "markdown",
   "id": "e78056fe-6709-4ef5-9d4e-beb2a098a02b",
   "metadata": {},
   "source": [
    "The close() function is used to close a file after it has been opened using the open() function in Python. It is important to close a file when you are finished using it because it releases the system resources that were being used by the file.\n",
    "\n",
    "In addition to freeing up system resources, closing a file also ensures that any changes made to the file are saved properly. When you close a file, any changes that were made to it are written to disk, ensuring that the data is stored correctly and can be accessed again later.\n",
    "\n"
   ]
  },
  {
   "cell_type": "markdown",
   "id": "46e4e77e-c5da-4af7-9527-c574d2952271",
   "metadata": {},
   "source": [
    "#Q.3"
   ]
  },
  {
   "cell_type": "code",
   "execution_count": 1,
   "id": "f8244d5d-5b59-42fa-886e-ececa99febfe",
   "metadata": {},
   "outputs": [
    {
     "data": {
      "text/plain": [
       "33"
      ]
     },
     "execution_count": 1,
     "metadata": {},
     "output_type": "execute_result"
    }
   ],
   "source": [
    "file=open(\"text.txt\",'w')\n",
    "file.write(\"I want to become a Data Scientist\")"
   ]
  },
  {
   "cell_type": "code",
   "execution_count": 2,
   "id": "a19cd482-49d5-45b6-bc5a-4e303e45b871",
   "metadata": {},
   "outputs": [],
   "source": [
    "file.close()"
   ]
  },
  {
   "cell_type": "code",
   "execution_count": 3,
   "id": "1f0772e7-718c-4ccd-b95c-5f2ff706a97c",
   "metadata": {},
   "outputs": [],
   "source": [
    "data=file=open(\"text.txt\",'r')"
   ]
  },
  {
   "cell_type": "code",
   "execution_count": 4,
   "id": "091a254e-fa75-4b9b-8b6e-9d5b7b228dde",
   "metadata": {},
   "outputs": [
    {
     "data": {
      "text/plain": [
       "'I want to become a Data Scientist'"
      ]
     },
     "execution_count": 4,
     "metadata": {},
     "output_type": "execute_result"
    }
   ],
   "source": [
    "file.read()"
   ]
  },
  {
   "cell_type": "markdown",
   "id": "0bc62969-d10e-484d-b19b-b1aa7603599a",
   "metadata": {},
   "source": [
    "Q.4"
   ]
  },
  {
   "cell_type": "markdown",
   "id": "3d79e61b-e9ef-4114-b407-1180e8c9f37d",
   "metadata": {},
   "source": [
    "read(): This method reads the entire content of a file as a single string. When you call this method, it reads the file from the current file pointer position to the end of the file.\n"
   ]
  },
  {
   "cell_type": "code",
   "execution_count": 8,
   "id": "02741bea-8c95-4ab8-b578-b3034e1afde5",
   "metadata": {},
   "outputs": [
    {
     "name": "stdout",
     "output_type": "stream",
     "text": [
      "I want to become a Data Scientist\n"
     ]
    }
   ],
   "source": [
    " with open(\"data_scientist.txt\", \"w\") as file:\n",
    "    # Write a string to the file\n",
    "    file.write(\"I want to become a Data Scientist\")\n",
    "\n",
    "# Open the file for reading\n",
    "with open(\"data_scientist.txt\", \"r\") as file:\n",
    "    # Read the contents of the file\n",
    "    content = file.read()\n",
    "    print(content)\n"
   ]
  },
  {
   "cell_type": "markdown",
   "id": "6830bdee-c538-44d5-8e20-e74b3222b80c",
   "metadata": {},
   "source": [
    "readline(): This method reads a single line from a file. When you call this method multiple times, it reads subsequent lines from the file."
   ]
  },
  {
   "cell_type": "code",
   "execution_count": 9,
   "id": "1d659a3e-36c4-47b8-8467-3de7c6e04795",
   "metadata": {},
   "outputs": [
    {
     "name": "stdout",
     "output_type": "stream",
     "text": [
      "Q1. Which function is used to open a file? What are the different modes of opening a file? Explain each mode\n",
      "\n"
     ]
    }
   ],
   "source": [
    "# Open the file in read mode\n",
    "file = open(\"example.txt\", \"r\")\n",
    "\n",
    "# Read the first line of the file\n",
    "line1 = file.readline()\n",
    "\n",
    "# Read the second line of the file\n",
    "line2 = file.readline()\n",
    "\n",
    "# Print the first two lines of the file\n",
    "print(line1)\n",
    "print(line2)\n",
    "\n",
    "# Close the file\n",
    "file.close()\n"
   ]
  },
  {
   "cell_type": "markdown",
   "id": "e16948a8-6aff-4f82-8223-eba3b79ada9c",
   "metadata": {},
   "source": [
    "readlines(): This method reads the entire content of a file into a list of strings, where each string is a line in the file."
   ]
  },
  {
   "cell_type": "code",
   "execution_count": 10,
   "id": "9230e0d8-8bb3-47bd-b56f-7387cd2710cf",
   "metadata": {},
   "outputs": [
    {
     "name": "stdout",
     "output_type": "stream",
     "text": [
      "Q1. Which function is used to open a file? What are the different modes of opening a file? Explain each mode\n"
     ]
    }
   ],
   "source": [
    "# Open the file in read mode\n",
    "file = open(\"example.txt\", \"r\")\n",
    "\n",
    "# Read the entire content of the file into a list of strings\n",
    "lines = file.readlines()\n",
    "\n",
    "# Print each line of the file\n",
    "for line in lines:\n",
    "    print(line)\n",
    "\n",
    "# Close the file\n",
    "file.close()\n"
   ]
  },
  {
   "cell_type": "code",
   "execution_count": null,
   "id": "3d5f9650-70a7-4377-bc52-c90876f20588",
   "metadata": {},
   "outputs": [],
   "source": [
    "#Q.5"
   ]
  },
  {
   "cell_type": "markdown",
   "id": "f24cb7d4-5211-49c8-b210-e68c02e31d4b",
   "metadata": {},
   "source": [
    "In Python, the with statement is used with open() to ensure that a file is properly closed after it has been used.\n",
    "\n",
    "The with statement provides a convenient way to open a file, do some operations on it, and then close it automatically without the need for explicit calls to the close() method. This ensures that the file is always properly closed, even if an exception is raised during the operations on the file.\n",
    "\n",
    "The advantage of using the with statement and open() together is that it simplifies the process of working with files, while also making your code safer and more reliable. Here's an example of using the with statement and open() together to read the contents of a file:"
   ]
  },
  {
   "cell_type": "markdown",
   "id": "a0bb57b4-5ed3-4c8a-a6a0-8cdac195b377",
   "metadata": {},
   "source": [
    "#Q.6"
   ]
  },
  {
   "cell_type": "markdown",
   "id": "16f42d8f-b756-4b74-915e-a857f46a5b41",
   "metadata": {},
   "source": [
    "\n",
    "write(): This function is used to write a single string to a file. When you call this function, it writes the string to the file at the current file pointer position. If the file doesn't exist, it creates the file.\n",
    "python\n",
    "\n"
   ]
  },
  {
   "cell_type": "code",
   "execution_count": 12,
   "id": "e611df44-3b49-4b3e-969a-2de39bc4d5ac",
   "metadata": {},
   "outputs": [],
   "source": [
    "# Open the file in write mode\n",
    "file = open(\"example.txt\", \"w\")\n",
    "\n",
    "# Write a string to the file\n",
    "file.write(\"I want to become a Data Scientist.\")\n",
    "\n",
    "# Close the file\n",
    "file.close()\n"
   ]
  },
  {
   "cell_type": "markdown",
   "id": "afd4c823-72c0-4a4b-b36c-aeb9bb2edf84",
   "metadata": {},
   "source": [
    "writelines(): This function is used to write a list of strings to a file. When you call this function, it writes each string in the list to the file at the current \n",
    "file pointer position."
   ]
  },
  {
   "cell_type": "code",
   "execution_count": 13,
   "id": "5c539f28-7908-469b-bf4c-9b17952f2da2",
   "metadata": {},
   "outputs": [],
   "source": [
    "# Open the file in write mode\n",
    "file = open(\"example.txt\", \"w\")\n",
    "\n",
    "# Write a list of strings to the file\n",
    "lines = [\"I want to become a Data Scientist.\\n\", \"I am learning Python programming language.\\n\"]\n",
    "file.writelines(lines)\n",
    "\n",
    "# Close the file\n",
    "file.close()\n"
   ]
  },
  {
   "cell_type": "code",
   "execution_count": null,
   "id": "653165a2-40db-40e6-ad75-ad3bc8ce18f1",
   "metadata": {},
   "outputs": [],
   "source": []
  }
 ],
 "metadata": {
  "kernelspec": {
   "display_name": "Python 3 (ipykernel)",
   "language": "python",
   "name": "python3"
  },
  "language_info": {
   "codemirror_mode": {
    "name": "ipython",
    "version": 3
   },
   "file_extension": ".py",
   "mimetype": "text/x-python",
   "name": "python",
   "nbconvert_exporter": "python",
   "pygments_lexer": "ipython3",
   "version": "3.10.8"
  }
 },
 "nbformat": 4,
 "nbformat_minor": 5
}
